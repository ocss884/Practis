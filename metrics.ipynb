{
 "cells": [
  {
   "cell_type": "code",
   "execution_count": 2,
   "metadata": {},
   "outputs": [],
   "source": [
    "# Configuration\n",
    "import os\n",
    "import sys\n",
    "REPO_NAME = \"Practis\"\n",
    "def get_repo_basepath():\n",
    "    cd = os.path.abspath(os.curdir)\n",
    "    return cd[:cd.index(REPO_NAME) + len(REPO_NAME)]\n",
    "REPO_BASE_PATH = get_repo_basepath()\n",
    "sys.path.append(REPO_BASE_PATH)\n",
    "#=============================================================================================\n",
    "import json\n",
    "import torch\n",
    "import numpy as np\n",
    "from tactis.gluon.estimator_perceiver import TACTiSPTrainingNetwork, TACTiSPPredictionNetwork\n",
    "from tactis.gluon.dataset import generate_backtesting_datasets\n",
    "from tactis.gluon.metrics import compute_validation_metrics\n",
    "from inference_util import create_predictor\n",
    "\n",
    "# torch.set_float32_matmul_precision(\"medium\")\n"
   ]
  },
  {
   "attachments": {},
   "cell_type": "markdown",
   "metadata": {},
   "source": [
    "# Enter variable below ↓"
   ]
  },
  {
   "cell_type": "code",
   "execution_count": 6,
   "metadata": {},
   "outputs": [],
   "source": [
    "# Enter your model config json file path in below, for example\n",
    "# MODEL_PARAMS_JSON = \"./train_config/elec_model_config.json\"\n",
    "# MODEL_CKPT_PATH = \"./train_ckpt/electricity/epoch_100.bin\"\n",
    "MODEL_PARAMS_JSON = \n",
    "MODEL_CKPT_PATH = "
   ]
  },
  {
   "cell_type": "code",
   "execution_count": 7,
   "metadata": {},
   "outputs": [],
   "source": [
    "# prepare dataset, here I use electricy dataset as an example\n",
    "history_length = 2\n",
    "prediction_length = 2\n",
    "total_length = history_length+prediction_length \n",
    "backtest_id = 2\n",
    "\n",
    "metadata, train_data, test_data = generate_backtesting_datasets(\"electricity_hourly\", backtest_id, total_length - 1)\n",
    "history_length *= metadata.prediction_length\n",
    "metadata.prediction_length *=prediction_length\n",
    "chosen_rows = np.arange(321)\n",
    "mean = 0.0\n",
    "std = 1.0\n",
    "\n",
    "# for entry in train_data:\n",
    "#     entry[\"target\"] = (entry[\"target\"][chosen_rows, :] - mean)/std\n",
    "for entry in test_data:\n",
    "    entry[\"target\"] = (entry[\"target\"][chosen_rows, :] - mean)/std\n",
    "num_series = train_data[0][\"target\"].shape[0]"
   ]
  },
  {
   "attachments": {},
   "cell_type": "markdown",
   "metadata": {},
   "source": [
    "# Run all cells below ↓"
   ]
  },
  {
   "cell_type": "code",
   "execution_count": 9,
   "metadata": {},
   "outputs": [
    {
     "data": {
      "text/plain": [
       "<All keys matched successfully>"
      ]
     },
     "execution_count": 9,
     "metadata": {},
     "output_type": "execute_result"
    }
   ],
   "source": [
    "# Load model\n",
    "if os.path.exists(MODEL_PARAMS_JSON):\n",
    "    with open(MODEL_PARAMS_JSON, \"r\") as json_file:\n",
    "        params = json.load(json_file)\n",
    "model = TACTiSPTrainingNetwork(num_series=num_series, \n",
    "                               model_parameters = params[\"model_parameters\"])\n",
    "model.load_state_dict(torch.load(MODEL_CKPT_PATH))"
   ]
  },
  {
   "cell_type": "code",
   "execution_count": 10,
   "metadata": {},
   "outputs": [],
   "source": [
    "prediction_network = TACTiSPPredictionNetwork(\n",
    "    num_series=num_series,\n",
    "    model_parameters=params[\"model_parameters\"],\n",
    "    prediction_length=metadata.prediction_length,\n",
    "    num_parallel_samples=100,\n",
    "    ).to(\"cuda\")\n",
    "predictor = create_predictor(train_network = model, \n",
    "                             prediction_network = prediction_network, \n",
    "                             num_series = num_series, \n",
    "                             history_length = history_length,\n",
    "                             prediction_length = metadata.prediction_length,\n",
    "                             )"
   ]
  },
  {
   "cell_type": "code",
   "execution_count": 11,
   "metadata": {},
   "outputs": [
    {
     "name": "stderr",
     "output_type": "stream",
     "text": [
      "/scratch/jl986/Practis/tactis/model/decoder_perceiver.py:106: UserWarning: __floordiv__ is deprecated, and its behavior will change in a future version of pytorch. It currently rounds toward 0 (like the 'trunc' function NOT 'floor'). This results in incorrect rounding for negative values. To keep the current behavior, use torch.div(a, b, rounding_mode='trunc'), or for actual floor division, use torch.div(a, b, rounding_mode='floor').\n",
      "  half = (mask_l + mask_r)//2\n"
     ]
    }
   ],
   "source": [
    "metrics = compute_validation_metrics(\n",
    "    predictor=predictor,\n",
    "    dataset=test_data,\n",
    "    window_length=history_length + metadata.prediction_length,\n",
    "    num_samples=100,\n",
    "    split=False,\n",
    ")"
   ]
  },
  {
   "cell_type": "code",
   "execution_count": 12,
   "metadata": {},
   "outputs": [
    {
     "data": {
      "text/plain": [
       "{'CRPS': 0.061206292496671734,\n",
       " 'ND': 0.07862516385842264,\n",
       " 'NRMSE': 0.3668832328473297,\n",
       " 'MSE': 610026.6552208106,\n",
       " 'CRPS-Sum': 0.01996823281138207,\n",
       " 'ND-Sum': 0.025692053282689784,\n",
       " 'NRMSE-Sum': 0.03272503979693871,\n",
       " 'MSE-Sum': 500107678.4761905,\n",
       " 'Energy': 68090.13283076297,\n",
       " 'Conditional-RMSE': 781.0420237459332,\n",
       " 'Conditional-NRMSE': 0.10865255098814651,\n",
       " 'num_nan': 0,\n",
       " 'num_inf': 0}"
      ]
     },
     "execution_count": 12,
     "metadata": {},
     "output_type": "execute_result"
    }
   ],
   "source": [
    "#epochs = 100\n",
    "metrics"
   ]
  },
  {
   "attachments": {},
   "cell_type": "markdown",
   "metadata": {},
   "source": [
    "# Run multiple"
   ]
  },
  {
   "cell_type": "code",
   "execution_count": 20,
   "metadata": {},
   "outputs": [
    {
     "name": "stderr",
     "output_type": "stream",
     "text": [
      "/scratch/jl986/Practis/tactis/model/decoder_perceiver.py:106: UserWarning: __floordiv__ is deprecated, and its behavior will change in a future version of pytorch. It currently rounds toward 0 (like the 'trunc' function NOT 'floor'). This results in incorrect rounding for negative values. To keep the current behavior, use torch.div(a, b, rounding_mode='trunc'), or for actual floor division, use torch.div(a, b, rounding_mode='floor').\n",
      "  half = (mask_l + mask_r)//2\n",
      "/scratch/jl986/Practis/tactis/model/decoder_perceiver.py:106: UserWarning: __floordiv__ is deprecated, and its behavior will change in a future version of pytorch. It currently rounds toward 0 (like the 'trunc' function NOT 'floor'). This results in incorrect rounding for negative values. To keep the current behavior, use torch.div(a, b, rounding_mode='trunc'), or for actual floor division, use torch.div(a, b, rounding_mode='floor').\n",
      "  half = (mask_l + mask_r)//2\n",
      "/scratch/jl986/Practis/tactis/model/decoder_perceiver.py:106: UserWarning: __floordiv__ is deprecated, and its behavior will change in a future version of pytorch. It currently rounds toward 0 (like the 'trunc' function NOT 'floor'). This results in incorrect rounding for negative values. To keep the current behavior, use torch.div(a, b, rounding_mode='trunc'), or for actual floor division, use torch.div(a, b, rounding_mode='floor').\n",
      "  half = (mask_l + mask_r)//2\n",
      "/scratch/jl986/Practis/tactis/model/decoder_perceiver.py:106: UserWarning: __floordiv__ is deprecated, and its behavior will change in a future version of pytorch. It currently rounds toward 0 (like the 'trunc' function NOT 'floor'). This results in incorrect rounding for negative values. To keep the current behavior, use torch.div(a, b, rounding_mode='trunc'), or for actual floor division, use torch.div(a, b, rounding_mode='floor').\n",
      "  half = (mask_l + mask_r)//2\n",
      "/scratch/jl986/Practis/tactis/model/decoder_perceiver.py:106: UserWarning: __floordiv__ is deprecated, and its behavior will change in a future version of pytorch. It currently rounds toward 0 (like the 'trunc' function NOT 'floor'). This results in incorrect rounding for negative values. To keep the current behavior, use torch.div(a, b, rounding_mode='trunc'), or for actual floor division, use torch.div(a, b, rounding_mode='floor').\n",
      "  half = (mask_l + mask_r)//2\n",
      "/scratch/jl986/Practis/tactis/model/decoder_perceiver.py:106: UserWarning: __floordiv__ is deprecated, and its behavior will change in a future version of pytorch. It currently rounds toward 0 (like the 'trunc' function NOT 'floor'). This results in incorrect rounding for negative values. To keep the current behavior, use torch.div(a, b, rounding_mode='trunc'), or for actual floor division, use torch.div(a, b, rounding_mode='floor').\n",
      "  half = (mask_l + mask_r)//2\n",
      "/scratch/jl986/Practis/tactis/model/decoder_perceiver.py:106: UserWarning: __floordiv__ is deprecated, and its behavior will change in a future version of pytorch. It currently rounds toward 0 (like the 'trunc' function NOT 'floor'). This results in incorrect rounding for negative values. To keep the current behavior, use torch.div(a, b, rounding_mode='trunc'), or for actual floor division, use torch.div(a, b, rounding_mode='floor').\n",
      "  half = (mask_l + mask_r)//2\n",
      "/scratch/jl986/Practis/tactis/model/decoder_perceiver.py:106: UserWarning: __floordiv__ is deprecated, and its behavior will change in a future version of pytorch. It currently rounds toward 0 (like the 'trunc' function NOT 'floor'). This results in incorrect rounding for negative values. To keep the current behavior, use torch.div(a, b, rounding_mode='trunc'), or for actual floor division, use torch.div(a, b, rounding_mode='floor').\n",
      "  half = (mask_l + mask_r)//2\n",
      "/scratch/jl986/Practis/tactis/model/decoder_perceiver.py:106: UserWarning: __floordiv__ is deprecated, and its behavior will change in a future version of pytorch. It currently rounds toward 0 (like the 'trunc' function NOT 'floor'). This results in incorrect rounding for negative values. To keep the current behavior, use torch.div(a, b, rounding_mode='trunc'), or for actual floor division, use torch.div(a, b, rounding_mode='floor').\n",
      "  half = (mask_l + mask_r)//2\n",
      "/scratch/jl986/Practis/tactis/model/decoder_perceiver.py:106: UserWarning: __floordiv__ is deprecated, and its behavior will change in a future version of pytorch. It currently rounds toward 0 (like the 'trunc' function NOT 'floor'). This results in incorrect rounding for negative values. To keep the current behavior, use torch.div(a, b, rounding_mode='trunc'), or for actual floor division, use torch.div(a, b, rounding_mode='floor').\n",
      "  half = (mask_l + mask_r)//2\n"
     ]
    }
   ],
   "source": [
    "ls = [compute_validation_metrics(\n",
    "    predictor=predictor,\n",
    "    dataset=test_data,\n",
    "    window_length=history_length + metadata.prediction_length,\n",
    "    num_samples=100,\n",
    "    split=False,\n",
    ") for _ in range(10)]"
   ]
  },
  {
   "cell_type": "code",
   "execution_count": 27,
   "metadata": {},
   "outputs": [
    {
     "data": {
      "text/plain": [
       "0.020045556372755718"
      ]
     },
     "execution_count": 27,
     "metadata": {},
     "output_type": "execute_result"
    }
   ],
   "source": [
    "sum(list(map(lambda x: x[\"CRPS-Sum\"], ls))) / 10"
   ]
  }
 ],
 "metadata": {
  "kernelspec": {
   "display_name": "Python 3 (ipykernel)",
   "language": "python",
   "name": "python3"
  },
  "language_info": {
   "codemirror_mode": {
    "name": "ipython",
    "version": 3
   },
   "file_extension": ".py",
   "mimetype": "text/x-python",
   "name": "python",
   "nbconvert_exporter": "python",
   "pygments_lexer": "ipython3",
   "version": "3.8.5"
  },
  "orig_nbformat": 4
 },
 "nbformat": 4,
 "nbformat_minor": 2
}
